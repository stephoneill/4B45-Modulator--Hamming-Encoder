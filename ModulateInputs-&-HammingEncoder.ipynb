{
 "cells": [
  {
   "cell_type": "markdown",
   "metadata": {},
   "source": [
    "# Networks Assigment (April 2021)"
   ]
  },
  {
   "cell_type": "markdown",
   "metadata": {},
   "source": [
    "<b>Q1: Write a function in python called modulateInputs which accepts binary input (in 4 bit binary format) and returns the resulting modulation using 4B/5B encoding.  If the input is not as expected, the program should print Error: Input must be in 4 bit binary. Two example test cases are shown below. The program you submit will be tested with further hidden test cases after the deadline.</b>"
   ]
  },
  {
   "cell_type": "code",
   "execution_count": 22,
   "metadata": {},
   "outputs": [],
   "source": [
    "def modulateInputs(inp):\n",
    "    dict = {\"0000\":\"11110\", \n",
    "            \"0001\":\"01001\",\n",
    "            \"0010\":\"10100\",\n",
    "            \"0011\":\"10101\",\n",
    "            \"0100\":\"01010\",\n",
    "            \"0101\":\"01011\",\n",
    "            \"0110\":\"01110\",\n",
    "            \"0111\":\"01111\",\n",
    "            \"1000\":\"10010\",\n",
    "            \"1001\":\"10011\",\n",
    "            \"1010\":\"10110\",\n",
    "            \"1011\":\"10111\",\n",
    "            \"1100\":\"11010\",\n",
    "            \"1101\":\"11011\",\n",
    "            \"1110\":\"11100\",\n",
    "            \"1111\":\"11101\"}\n",
    "    \n",
    "    # convert to string format\n",
    "    if type(inp) == int:\n",
    "        inp = str(inp)\n",
    "        \n",
    "    # ensuring there are no whitespaces\n",
    "    inp = inp.strip()\n",
    "    inp = inp.replace(\" \", \"\")\n",
    "    \n",
    "    # check for errors\n",
    "    errmsg = \"Error: Input must be in 4 bit binary\"\n",
    "    if (len(inp) % 4) != 0:\n",
    "        return errmsg\n",
    "    \n",
    "    for i in inp:\n",
    "        if i != \"1\" and i != \"0\":\n",
    "            return errmsg\n",
    "    \n",
    "    # go through inp 4 chars at a time and append the dict value to a str 'output'\n",
    "    output = \"\"\n",
    "    for i in range(0, len(inp), 4):\n",
    "        tempstr = inp[i:i+4]\n",
    "        output += str(dict[tempstr])\n",
    "    \n",
    "    return output\n",
    "\n",
    "    "
   ]
  },
  {
   "cell_type": "code",
   "execution_count": 24,
   "metadata": {},
   "outputs": [
    {
     "name": "stdout",
     "output_type": "stream",
     "text": [
      "Error: Input must be in 4 bit binary\n"
     ]
    }
   ],
   "source": [
    "print(modulateInputs(1111000))"
   ]
  },
  {
   "cell_type": "markdown",
   "metadata": {},
   "source": [
    "<b>Q2: Write a function in Python called hammingEncoder which takes a binary sequence as an input and outputs the sequence after hamming encoding has been applied.  All input errors should be handled by printing Error: Input must be in binary. Two example test cases are shown below. The program you submit will be tested with further hidden test cases after the deadline.</b>"
   ]
  },
  {
   "cell_type": "code",
   "execution_count": 196,
   "metadata": {},
   "outputs": [],
   "source": [
    "def hammingEncode(inp):\n",
    "    '''This function \"hamming-encodes\" any word length'''\n",
    "    \n",
    "    ### ERROR CHECKING ###\n",
    "    # convert to string format\n",
    "    if type(inp) == int:\n",
    "        inp = str(inp)\n",
    "        \n",
    "    # ensuring there are no whitespaces\n",
    "    inp = inp.strip()\n",
    "    inp = inp.replace(\" \", \"\")\n",
    "    \n",
    "    # check for errors\n",
    "    errmsg = \"Error: Input must be in 4 bit binary\"\n",
    "    if (len(inp) % 4) != 0:\n",
    "        return errmsg\n",
    "    \n",
    "    for i in inp:\n",
    "        if i != \"1\" and i != \"0\":\n",
    "            return errmsg\n",
    "        \n",
    "    ### ENCODING ###\n",
    "    # Firstly, determine the number of parity check bits needed (m)\n",
    "    m = 0\n",
    "    i = 0\n",
    "    while m == 0:\n",
    "        if(len(inp) <= (2**i - i - 1)):\n",
    "            m = i\n",
    "        i += 1  \n",
    "    \n",
    "    totalbits = len(inp) + m\n",
    "    encoded = {}  # use dict to easily store bits in correct positions\n",
    "    for i in range(1, totalbits+1):\n",
    "        encoded[i] = None\n",
    "    \n",
    "    # Put a marker for the positions to contain parity bits\n",
    "    for i in range(m):\n",
    "        encoded[2**i] = 'parity-bit'  # eg. position 1 -> 2^0\n",
    "    \n",
    "    # Put the data bits (from inp) into the dict in correct positions\n",
    "    ind = 0\n",
    "    for i in range(1, totalbits+1):\n",
    "        if encoded[i] != 'parity-bit':\n",
    "            encoded[i] = inp[ind]\n",
    "            ind+=1\n",
    "    \n",
    "    # Create lists to contain the binary keys and respective values so we can refer to the ordered index\n",
    "    binkeys = []\n",
    "    values = []\n",
    "    for k,v in encoded.items():\n",
    "        binkeys.append(bin(k))\n",
    "        values.append(v)\n",
    "\n",
    "    sigbit = -1   # significant bit to know which bits to be concerned with in a given binary key\n",
    "    for i in range(len(values)):\n",
    "        if values[i] == 'parity-bit': # finally, determine the right value for each parity bit\n",
    "            vals = [int(values[v]) for v in range(i+1, len(values)) if binkeys[v][sigbit] == \"1\"]\n",
    "            sigbit -= 1\n",
    "            values[i] = (sum(vals))%2\n",
    "            \n",
    "    # to output a string of the final code word\n",
    "    output = \"\"\n",
    "    for i in values:\n",
    "        output += (str(i))\n",
    "\n",
    "    return output\n",
    "            \n"
   ]
  },
  {
   "cell_type": "code",
   "execution_count": 200,
   "metadata": {},
   "outputs": [
    {
     "name": "stdout",
     "output_type": "stream",
     "text": [
      "10001100101\n",
      "0111100\n"
     ]
    }
   ],
   "source": [
    "print(hammingEncode(\"0110101\"))\n",
    "print(hammingEncode(\"1100\"))"
   ]
  },
  {
   "cell_type": "code",
   "execution_count": null,
   "metadata": {},
   "outputs": [],
   "source": []
  }
 ],
 "metadata": {
  "kernelspec": {
   "display_name": "Python 3",
   "language": "python",
   "name": "python3"
  },
  "language_info": {
   "codemirror_mode": {
    "name": "ipython",
    "version": 3
   },
   "file_extension": ".py",
   "mimetype": "text/x-python",
   "name": "python",
   "nbconvert_exporter": "python",
   "pygments_lexer": "ipython3",
   "version": "3.8.5"
  }
 },
 "nbformat": 4,
 "nbformat_minor": 4
}
